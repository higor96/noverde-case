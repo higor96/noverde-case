{
 "cells": [
  {
   "cell_type": "code",
   "execution_count": 17,
   "metadata": {},
   "outputs": [
    {
     "name": "stdout",
     "output_type": "stream",
     "text": [
      "19\n"
     ]
    }
   ],
   "source": [
    "from dateutil.relativedelta import relativedelta\n",
    "\n",
    "birth = datetime.strptime('2000-07-24', '%Y-%m-%d')\n",
    "today = datetime.today()\n",
    "difference_in_years = relativedelta(today, birth).years\n",
    "print(difference_in_years)"
   ]
  },
  {
   "cell_type": "code",
   "execution_count": 74,
   "metadata": {},
   "outputs": [
    {
     "name": "stdout",
     "output_type": "stream",
     "text": [
      "{\"score\": 840}\n",
      "{\"commitment\": 0.39}\n"
     ]
    }
   ],
   "source": [
    "import requests\n",
    "import json\n",
    "\n",
    "api_key = \"z2qcDsl6BK8FEPynp2ND17WvcJKMQTpjT5lcyQ0d\"\n",
    "cpf = \"12345678901\"\n",
    "\n",
    "response_1 = requests.post(url=\"https://challenge.noverde.name/score\", headers={\"x-api-key\": api_key}, data=json.dumps({\"cpf\": cpf}))\n",
    "response_2 = requests.post(url=\"https://challenge.noverde.name/commitment\", headers={\"x-api-key\": api_key}, data=json.dumps({\"cpf\": cpf}))\n",
    "\n",
    "print(response_1.text)\n",
    "print(response_2.text)"
   ]
  },
  {
   "cell_type": "code",
   "execution_count": 87,
   "metadata": {},
   "outputs": [],
   "source": [
    "fields = {'amount': 'teste'}"
   ]
  },
  {
   "cell_type": "code",
   "execution_count": 90,
   "metadata": {},
   "outputs": [
    {
     "name": "stdout",
     "output_type": "stream",
     "text": [
      "amount\n"
     ]
    }
   ],
   "source": [
    "for x in fields.keys():\n",
    "    print(x)"
   ]
  }
 ],
 "metadata": {
  "kernelspec": {
   "display_name": "Python 3",
   "language": "python",
   "name": "python3"
  },
  "language_info": {
   "codemirror_mode": {
    "name": "ipython",
    "version": 3
   },
   "file_extension": ".py",
   "mimetype": "text/x-python",
   "name": "python",
   "nbconvert_exporter": "python",
   "pygments_lexer": "ipython3",
   "version": "3.7.7"
  }
 },
 "nbformat": 4,
 "nbformat_minor": 4
}
